{
 "cells": [
  {
   "cell_type": "code",
   "execution_count": 1,
   "metadata": {},
   "outputs": [
    {
     "data": {
      "text/html": [
       "<div>\n",
       "<style scoped>\n",
       "    .dataframe tbody tr th:only-of-type {\n",
       "        vertical-align: middle;\n",
       "    }\n",
       "\n",
       "    .dataframe tbody tr th {\n",
       "        vertical-align: top;\n",
       "    }\n",
       "\n",
       "    .dataframe thead th {\n",
       "        text-align: right;\n",
       "    }\n",
       "</style>\n",
       "<table border=\"1\" class=\"dataframe\">\n",
       "  <thead>\n",
       "    <tr style=\"text-align: right;\">\n",
       "      <th></th>\n",
       "      <th>id</th>\n",
       "      <th>name</th>\n",
       "      <th>description</th>\n",
       "      <th>config_data</th>\n",
       "      <th>created_at</th>\n",
       "    </tr>\n",
       "  </thead>\n",
       "  <tbody>\n",
       "    <tr>\n",
       "      <th>0</th>\n",
       "      <td>1738397442</td>\n",
       "      <td>Service Beta</td>\n",
       "      <td>Database replication configuration</td>\n",
       "      <td>{\"version\": \"1.8.3\", \"environment\": \"staging\",...</td>\n",
       "      <td>2025-02-01 09:10:42.992716</td>\n",
       "    </tr>\n",
       "  </tbody>\n",
       "</table>\n",
       "</div>"
      ],
      "text/plain": [
       "           id          name                         description  \\\n",
       "0  1738397442  Service Beta  Database replication configuration   \n",
       "\n",
       "                                         config_data  \\\n",
       "0  {\"version\": \"1.8.3\", \"environment\": \"staging\",...   \n",
       "\n",
       "                  created_at  \n",
       "0 2025-02-01 09:10:42.992716  "
      ]
     },
     "execution_count": 1,
     "metadata": {},
     "output_type": "execute_result"
    }
   ],
   "source": [
    "import pandas as pd\n",
    "from utils_bq import write_dataframe_to_bigquery, execute_bigquery_and_get_dataframe\n",
    "\n",
    "import pandas as pd\n",
    "from datetime import datetime, timedelta\n",
    "import json\n",
    "import random\n",
    "\n",
    "# Generate fake names\n",
    "names = [\n",
    "    \"Project Alpha\", \"Service Beta\", \"System Gamma\",\n",
    "    \"Pipeline Delta\", \"Module Epsilon\", \"Framework Zeta\",\n",
    "    \"API Eta\", \"Database Theta\", \"Platform Iota\",\n",
    "    \"Network Kappa\"\n",
    "]\n",
    "\n",
    "# Generate fake descriptions\n",
    "descriptions = [\n",
    "    \"Machine learning model for prediction\",\n",
    "    \"Data processing pipeline configuration\",\n",
    "    \"User authentication service settings\",\n",
    "    \"Real-time analytics dashboard setup\",\n",
    "    \"Message queue system parameters\",\n",
    "    \"Database replication configuration\",\n",
    "    \"API gateway routing rules\",\n",
    "    \"Cache invalidation strategy\",\n",
    "    \"Load balancer distribution settings\",\n",
    "    \"Monitoring system alert configuration\"\n",
    "]\n",
    "\n",
    "# Generate fake config data\n",
    "def generate_config():\n",
    "    return {\n",
    "        \"version\": f\"{random.randint(1, 5)}.{random.randint(0, 9)}.{random.randint(0, 9)}\",\n",
    "        \"environment\": random.choice([\"development\", \"staging\", \"production\"]),\n",
    "        \"parameters\": {\n",
    "            \"timeout\": random.randint(1000, 5000),\n",
    "            \"retries\": random.randint(1, 5),\n",
    "            \"batch_size\": random.randint(10, 100),\n",
    "            \"enabled_features\": random.sample(\n",
    "                [\"logging\", \"monitoring\", \"alerting\", \"backup\", \"caching\"],\n",
    "                k=random.randint(2, 5)\n",
    "            )\n",
    "        },\n",
    "        \"resources\": {\n",
    "            \"cpu\": f\"{random.randint(1, 8)} cores\",\n",
    "            \"memory\": f\"{random.randint(1, 32)}GB\",\n",
    "            \"storage\": f\"{random.randint(10, 500)}GB\"\n",
    "        }\n",
    "    }\n",
    "\n",
    "# Generate timestamps for the last 10 days\n",
    "base_timestamp = datetime.now() - timedelta(days=1)\n",
    "timestamps = [base_timestamp + timedelta(days=x) for x in range(1)]\n",
    "\n",
    "# Create the DataFrame\n",
    "df = pd.DataFrame({\n",
    "    'id': [int(ts.timestamp()) for ts in timestamps],\n",
    "    'name': random.sample(names, len(timestamps)),\n",
    "    'description': random.sample(descriptions, len(timestamps)),\n",
    "    'config_data': [json.dumps(generate_config()) for _ in range(len(timestamps))],\n",
    "    'created_at': timestamps\n",
    "})\n",
    "\n",
    "df"
   ]
  },
  {
   "cell_type": "code",
   "execution_count": 2,
   "metadata": {},
   "outputs": [
    {
     "name": "stdout",
     "output_type": "stream",
     "text": [
      "Successfully loaded 1 rows to rikkanza.montecarlo.bbs\n"
     ]
    }
   ],
   "source": [
    "write_dataframe_to_bigquery(df, how=\"WRITE_TRUNCATE\")"
   ]
  },
  {
   "cell_type": "code",
   "execution_count": null,
   "metadata": {},
   "outputs": [],
   "source": []
  }
 ],
 "metadata": {
  "kernelspec": {
   "display_name": "Python 3",
   "language": "python",
   "name": "python3"
  },
  "language_info": {
   "codemirror_mode": {
    "name": "ipython",
    "version": 3
   },
   "file_extension": ".py",
   "mimetype": "text/x-python",
   "name": "python",
   "nbconvert_exporter": "python",
   "pygments_lexer": "ipython3",
   "version": "3.11.9"
  }
 },
 "nbformat": 4,
 "nbformat_minor": 2
}
